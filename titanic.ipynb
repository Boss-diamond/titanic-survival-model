{
 "cells": [
  {
   "cell_type": "code",
   "execution_count": 1,
   "id": "bf9f31f6",
   "metadata": {},
   "outputs": [],
   "source": [
    "import pandas as pd\n",
    "import matplotlib.pyplot as plt\n",
    "from sklearn.model_selection import train_test_split\n",
    "from sklearn.linear_model import LogisticRegression\n",
    "from sklearn.ensemble import RandomForestClassifier\n",
    "from xgboost import XGBClassifier\n",
    "from sklearn.metrics import accuracy_score, precision_score, recall_score\n",
    "from sklearn.metrics import confusion_matrix, ConfusionMatrixDisplay, f1_score\n",
    "from sklearn.inspection import permutation_importance\n",
    "\n"
   ]
  },
  {
   "cell_type": "code",
   "execution_count": 2,
   "id": "cc1c3e65",
   "metadata": {},
   "outputs": [],
   "source": [
    "titanic_file_path = \"titanic.csv\"\n",
    "titanic_data = pd.read_csv(titanic_file_path)"
   ]
  },
  {
   "cell_type": "markdown",
   "id": "6894a8b8",
   "metadata": {},
   "source": [
    "cleaning of the titanic.csv"
   ]
  },
  {
   "cell_type": "code",
   "execution_count": 3,
   "id": "9d5e1596",
   "metadata": {},
   "outputs": [],
   "source": [
    "titanic_data['Title'] = titanic_data['Name'].str.extract(r' ([A-Za-z]+)\\.', expand=False)\n",
    "titanic_data['Title'] = titanic_data['Title'].replace({\n",
    "    'Mlle': 'Miss',\n",
    "    'Ms': 'Miss',\n",
    "    'Mme': 'Mrs',\n",
    "    'Lady': 'Rare', 'Countess': 'Rare', 'Capt': 'Rare', 'Col': 'Rare',\n",
    "    'Don': 'Rare', 'Dr': 'Rare', 'Major': 'Rare', 'Rev': 'Rare',\n",
    "        'Sir': 'Rare', 'Jonkheer': 'Rare', 'Dona': 'Rare'})\n"
   ]
  },
  {
   "cell_type": "code",
   "execution_count": 4,
   "id": "9ce41c84",
   "metadata": {},
   "outputs": [],
   "source": [
    "titanic_data['Age'] = titanic_data.groupby('Title')['Age'].transform(lambda x: x.fillna(x.median()))\n"
   ]
  },
  {
   "cell_type": "code",
   "execution_count": 5,
   "id": "a38a9e29",
   "metadata": {},
   "outputs": [],
   "source": [
    "def deal_nan(columns,with_what):\n",
    "    return titanic_data.fillna({columns: with_what}, inplace=True)\n",
    "deal_nan('Cabin','Unknown')\n",
    "\n",
    "\n"
   ]
  },
  {
   "cell_type": "markdown",
   "id": "0492ce45",
   "metadata": {},
   "source": [
    "cleaning methods\n",
    "number 1 dropping duplicates"
   ]
  },
  {
   "cell_type": "code",
   "execution_count": 6,
   "id": "5cfd9991",
   "metadata": {},
   "outputs": [],
   "source": [
    "titanic_data.drop_duplicates(inplace=True)"
   ]
  },
  {
   "cell_type": "code",
   "execution_count": 7,
   "id": "a791aaa7",
   "metadata": {},
   "outputs": [
    {
     "data": {
      "text/plain": [
       "<matplotlib.collections.PathCollection at 0x783d57135400>"
      ]
     },
     "execution_count": 7,
     "metadata": {},
     "output_type": "execute_result"
    },
    {
     "data": {
      "image/png": "[encoded data removed]",
      "text/plain": [
       "<Figure size 640x480 with 1 Axes>"
      ]
     },
     "metadata": {},
     "output_type": "display_data"
    }
   ],
   "source": [
    "plt.scatter(titanic_data['Sex'], titanic_data['Fare'])"
   ]
  },
  {
   "cell_type": "markdown",
   "id": "a8ddfde5",
   "metadata": {},
   "source": [
    "method 2 turning the whole column to uppercase or lower case"
   ]
  },
  {
   "cell_type": "code",
   "execution_count": 8,
   "id": "bf9af78a",
   "metadata": {},
   "outputs": [],
   "source": [
    "titanic_data['Sex'] = titanic_data['Sex'].str.lower()"
   ]
  },
  {
   "cell_type": "code",
   "execution_count": 9,
   "id": "e25c70b0",
   "metadata": {},
   "outputs": [
    {
     "data": {
      "text/plain": [
       "<matplotlib.collections.PathCollection at 0x783d571b8410>"
      ]
     },
     "execution_count": 9,
     "metadata": {},
     "output_type": "execute_result"
    },
    {
     "data": {
      "image/png": "[encoded data removed]",
      "text/plain": [
       "<Figure size 640x480 with 1 Axes>"
      ]
     },
     "metadata": {},
     "output_type": "display_data"
    }
   ],
   "source": [
    "plt.scatter(titanic_data['Sex'], titanic_data['Age'])"
   ]
  },
  {
   "cell_type": "markdown",
   "id": "374d7eac",
   "metadata": {},
   "source": [
    "checking for outlier in age"
   ]
  },
  {
   "cell_type": "code",
   "execution_count": 10,
   "id": "8b140379",
   "metadata": {},
   "outputs": [
    {
     "name": "stdout",
     "output_type": "stream",
     "text": [
      "Empty DataFrame\n",
      "Columns: [PassengerId, Survived, Pclass, Name, Sex, Age, SibSp, Parch, Ticket, Fare, Cabin, Embarked, Title]\n",
      "Index: []\n"
     ]
    }
   ],
   "source": [
    "invalid_age = titanic_data[(titanic_data['Age']) < 0 | (titanic_data['Age'] > 100)]\n",
    "print(invalid_age)\n",
    "invalid_ages = (titanic_data['Age']) < 0 | (titanic_data['Age'] > 100)"
   ]
  },
  {
   "cell_type": "markdown",
   "id": "2335e9c6",
   "metadata": {},
   "source": [
    "method 3\n",
    "dropping or replacing  a range of number\n",
    "in this case i'm replacing with the median"
   ]
  },
  {
   "cell_type": "code",
   "execution_count": 11,
   "id": "db158e11",
   "metadata": {},
   "outputs": [],
   "source": [
    "titanic_data.loc[invalid_ages, 'Age'] = pd.NA\n",
    "titanic_data['Age'] = titanic_data.groupby('Title')['Age'].transform(lambda x: x.fillna(x.median()))"
   ]
  },
  {
   "cell_type": "markdown",
   "id": "95c51459",
   "metadata": {},
   "source": [
    "data exploration of titanic.csv"
   ]
  },
  {
   "cell_type": "code",
   "execution_count": 12,
   "id": "07731cfc",
   "metadata": {},
   "outputs": [
    {
     "name": "stdout",
     "output_type": "stream",
     "text": [
      "the last 20 rows are\n"
     ]
    },
    {
     "data": {
      "text/html": [
       "<div>\n",
       "<style scoped>\n",
       "    .dataframe tbody tr th:only-of-type {\n",
       "        vertical-align: middle;\n",
       "    }\n",
       "\n",
       "    .dataframe tbody tr th {\n",
       "        vertical-align: top;\n",
       "    }\n",
       "\n",
       "    .dataframe thead th {\n",
       "        text-align: right;\n",
       "    }\n",
       "</style>\n",
       "<table border=\"1\" class=\"dataframe\">\n",
       "  <thead>\n",
       "    <tr style=\"text-align: right;\">\n",
       "      <th></th>\n",
       "      <th>PassengerId</th>\n",
       "      <th>Survived</th>\n",
       "      <th>Pclass</th>\n",
       "      <th>Name</th>\n",
       "      <th>Sex</th>\n",
       "      <th>Age</th>\n",
       "      <th>SibSp</th>\n",
       "      <th>Parch</th>\n",
       "      <th>Ticket</th>\n",
       "      <th>Fare</th>\n",
       "      <th>Cabin</th>\n",
       "      <th>Embarked</th>\n",
       "      <th>Title</th>\n",
       "    </tr>\n",
       "  </thead>\n",
       "  <tbody>\n",
       "    <tr>\n",
       "      <th>871</th>\n",
       "      <td>872</td>\n",
       "      <td>1</td>\n",
       "      <td>1</td>\n",
       "      <td>Beckwith, Mrs. Richard Leonard (Sallie Monypeny)</td>\n",
       "      <td>female</td>\n",
       "      <td>47.0</td>\n",
       "      <td>1</td>\n",
       "      <td>1</td>\n",
       "      <td>11751</td>\n",
       "      <td>52.5542</td>\n",
       "      <td>D35</td>\n",
       "      <td>S</td>\n",
       "      <td>Mrs</td>\n",
       "    </tr>\n",
       "    <tr>\n",
       "      <th>872</th>\n",
       "      <td>873</td>\n",
       "      <td>0</td>\n",
       "      <td>1</td>\n",
       "      <td>Carlsson, Mr. Frans Olof</td>\n",
       "      <td>male</td>\n",
       "      <td>33.0</td>\n",
       "      <td>0</td>\n",
       "      <td>0</td>\n",
       "      <td>695</td>\n",
       "      <td>5.0000</td>\n",
       "      <td>B51 B53 B55</td>\n",
       "      <td>S</td>\n",
       "      <td>Mr</td>\n",
       "    </tr>\n",
       "    <tr>\n",
       "      <th>873</th>\n",
       "      <td>874</td>\n",
       "      <td>0</td>\n",
       "      <td>3</td>\n",
       "      <td>Vander Cruyssen, Mr. Victor</td>\n",
       "      <td>male</td>\n",
       "      <td>47.0</td>\n",
       "      <td>0</td>\n",
       "      <td>0</td>\n",
       "      <td>345765</td>\n",
       "      <td>9.0000</td>\n",
       "      <td>Unknown</td>\n",
       "      <td>S</td>\n",
       "      <td>Mr</td>\n",
       "    </tr>\n",
       "    <tr>\n",
       "      <th>874</th>\n",
       "      <td>875</td>\n",
       "      <td>1</td>\n",
       "      <td>2</td>\n",
       "      <td>Abelson, Mrs. Samuel (Hannah Wizosky)</td>\n",
       "      <td>female</td>\n",
       "      <td>28.0</td>\n",
       "      <td>1</td>\n",
       "      <td>0</td>\n",
       "      <td>P/PP 3381</td>\n",
       "      <td>24.0000</td>\n",
       "      <td>Unknown</td>\n",
       "      <td>C</td>\n",
       "      <td>Mrs</td>\n",
       "    </tr>\n",
       "    <tr>\n",
       "      <th>875</th>\n",
       "      <td>876</td>\n",
       "      <td>1</td>\n",
       "      <td>3</td>\n",
       "      <td>Najib, Miss. Adele Kiamie \"Jane\"</td>\n",
       "      <td>female</td>\n",
       "      <td>15.0</td>\n",
       "      <td>0</td>\n",
       "      <td>0</td>\n",
       "      <td>2667</td>\n",
       "      <td>7.2250</td>\n",
       "      <td>Unknown</td>\n",
       "      <td>C</td>\n",
       "      <td>Miss</td>\n",
       "    </tr>\n",
       "    <tr>\n",
       "      <th>876</th>\n",
       "      <td>877</td>\n",
       "      <td>0</td>\n",
       "      <td>3</td>\n",
       "      <td>Gustafsson, Mr. Alfred Ossian</td>\n",
       "      <td>male</td>\n",
       "      <td>20.0</td>\n",
       "      <td>0</td>\n",
       "      <td>0</td>\n",
       "      <td>7534</td>\n",
       "      <td>9.8458</td>\n",
       "      <td>Unknown</td>\n",
       "      <td>S</td>\n",
       "      <td>Mr</td>\n",
       "    </tr>\n",
       "    <tr>\n",
       "      <th>877</th>\n",
       "      <td>878</td>\n",
       "      <td>0</td>\n",
       "      <td>3</td>\n",
       "      <td>Petroff, Mr. Nedelio</td>\n",
       "      <td>male</td>\n",
       "      <td>19.0</td>\n",
       "      <td>0</td>\n",
       "      <td>0</td>\n",
       "      <td>349212</td>\n",
       "      <td>7.8958</td>\n",
       "      <td>Unknown</td>\n",
       "      <td>S</td>\n",
       "      <td>Mr</td>\n",
       "    </tr>\n",
       "    <tr>\n",
       "      <th>878</th>\n",
       "      <td>879</td>\n",
       "      <td>0</td>\n",
       "      <td>3</td>\n",
       "      <td>Laleff, Mr. Kristo</td>\n",
       "      <td>male</td>\n",
       "      <td>30.0</td>\n",
       "      <td>0</td>\n",
       "      <td>0</td>\n",
       "      <td>349217</td>\n",
       "      <td>7.8958</td>\n",
       "      <td>Unknown</td>\n",
       "      <td>S</td>\n",
       "      <td>Mr</td>\n",
       "    </tr>\n",
       "    <tr>\n",
       "      <th>879</th>\n",
       "      <td>880</td>\n",
       "      <td>1</td>\n",
       "      <td>1</td>\n",
       "      <td>Potter, Mrs. Thomas Jr (Lily Alexenia Wilson)</td>\n",
       "      <td>female</td>\n",
       "      <td>56.0</td>\n",
       "      <td>0</td>\n",
       "      <td>1</td>\n",
       "      <td>11767</td>\n",
       "      <td>83.1583</td>\n",
       "      <td>C50</td>\n",
       "      <td>C</td>\n",
       "      <td>Mrs</td>\n",
       "    </tr>\n",
       "    <tr>\n",
       "      <th>880</th>\n",
       "      <td>881</td>\n",
       "      <td>1</td>\n",
       "      <td>2</td>\n",
       "      <td>Shelley, Mrs. William (Imanita Parrish Hall)</td>\n",
       "      <td>female</td>\n",
       "      <td>25.0</td>\n",
       "      <td>0</td>\n",
       "      <td>1</td>\n",
       "      <td>230433</td>\n",
       "      <td>26.0000</td>\n",
       "      <td>Unknown</td>\n",
       "      <td>S</td>\n",
       "      <td>Mrs</td>\n",
       "    </tr>\n",
       "    <tr>\n",
       "      <th>881</th>\n",
       "      <td>882</td>\n",
       "      <td>0</td>\n",
       "      <td>3</td>\n",
       "      <td>Markun, Mr. Johann</td>\n",
       "      <td>male</td>\n",
       "      <td>33.0</td>\n",
       "      <td>0</td>\n",
       "      <td>0</td>\n",
       "      <td>349257</td>\n",
       "      <td>7.8958</td>\n",
       "      <td>Unknown</td>\n",
       "      <td>S</td>\n",
       "      <td>Mr</td>\n",
       "    </tr>\n",
       "    <tr>\n",
       "      <th>882</th>\n",
       "      <td>883</td>\n",
       "      <td>0</td>\n",
       "      <td>3</td>\n",
       "      <td>Dahlberg, Miss. Gerda Ulrika</td>\n",
       "      <td>female</td>\n",
       "      <td>22.0</td>\n",
       "      <td>0</td>\n",
       "      <td>0</td>\n",
       "      <td>7552</td>\n",
       "      <td>10.5167</td>\n",
       "      <td>Unknown</td>\n",
       "      <td>S</td>\n",
       "      <td>Miss</td>\n",
       "    </tr>\n",
       "    <tr>\n",
       "      <th>883</th>\n",
       "      <td>884</td>\n",
       "      <td>0</td>\n",
       "      <td>2</td>\n",
       "      <td>Banfield, Mr. Frederick James</td>\n",
       "      <td>male</td>\n",
       "      <td>28.0</td>\n",
       "      <td>0</td>\n",
       "      <td>0</td>\n",
       "      <td>C.A./SOTON 34068</td>\n",
       "      <td>10.5000</td>\n",
       "      <td>Unknown</td>\n",
       "      <td>S</td>\n",
       "      <td>Mr</td>\n",
       "    </tr>\n",
       "    <tr>\n",
       "      <th>884</th>\n",
       "      <td>885</td>\n",
       "      <td>0</td>\n",
       "      <td>3</td>\n",
       "      <td>Sutehall, Mr. Henry Jr</td>\n",
       "      <td>male</td>\n",
       "      <td>25.0</td>\n",
       "      <td>0</td>\n",
       "      <td>0</td>\n",
       "      <td>SOTON/OQ 392076</td>\n",
       "      <td>7.0500</td>\n",
       "      <td>Unknown</td>\n",
       "      <td>S</td>\n",
       "      <td>Mr</td>\n",
       "    </tr>\n",
       "    <tr>\n",
       "      <th>885</th>\n",
       "      <td>886</td>\n",
       "      <td>0</td>\n",
       "      <td>3</td>\n",
       "      <td>Rice, Mrs. William (Margaret Norton)</td>\n",
       "      <td>female</td>\n",
       "      <td>39.0</td>\n",
       "      <td>0</td>\n",
       "      <td>5</td>\n",
       "      <td>382652</td>\n",
       "      <td>29.1250</td>\n",
       "      <td>Unknown</td>\n",
       "      <td>Q</td>\n",
       "      <td>Mrs</td>\n",
       "    </tr>\n",
       "    <tr>\n",
       "      <th>886</th>\n",
       "      <td>887</td>\n",
       "      <td>0</td>\n",
       "      <td>2</td>\n",
       "      <td>Montvila, Rev. Juozas</td>\n",
       "      <td>male</td>\n",
       "      <td>27.0</td>\n",
       "      <td>0</td>\n",
       "      <td>0</td>\n",
       "      <td>211536</td>\n",
       "      <td>13.0000</td>\n",
       "      <td>Unknown</td>\n",
       "      <td>S</td>\n",
       "      <td>Rare</td>\n",
       "    </tr>\n",
       "    <tr>\n",
       "      <th>887</th>\n",
       "      <td>888</td>\n",
       "      <td>1</td>\n",
       "      <td>1</td>\n",
       "      <td>Graham, Miss. Margaret Edith</td>\n",
       "      <td>female</td>\n",
       "      <td>19.0</td>\n",
       "      <td>0</td>\n",
       "      <td>0</td>\n",
       "      <td>112053</td>\n",
       "      <td>30.0000</td>\n",
       "      <td>B42</td>\n",
       "      <td>S</td>\n",
       "      <td>Miss</td>\n",
       "    </tr>\n",
       "    <tr>\n",
       "      <th>888</th>\n",
       "      <td>889</td>\n",
       "      <td>0</td>\n",
       "      <td>3</td>\n",
       "      <td>Johnston, Miss. Catherine Helen \"Carrie\"</td>\n",
       "      <td>female</td>\n",
       "      <td>21.0</td>\n",
       "      <td>1</td>\n",
       "      <td>2</td>\n",
       "      <td>W./C. 6607</td>\n",
       "      <td>23.4500</td>\n",
       "      <td>Unknown</td>\n",
       "      <td>S</td>\n",
       "      <td>Miss</td>\n",
       "    </tr>\n",
       "    <tr>\n",
       "      <th>889</th>\n",
       "      <td>890</td>\n",
       "      <td>1</td>\n",
       "      <td>1</td>\n",
       "      <td>Behr, Mr. Karl Howell</td>\n",
       "      <td>male</td>\n",
       "      <td>26.0</td>\n",
       "      <td>0</td>\n",
       "      <td>0</td>\n",
       "      <td>111369</td>\n",
       "      <td>30.0000</td>\n",
       "      <td>C148</td>\n",
       "      <td>C</td>\n",
       "      <td>Mr</td>\n",
       "    </tr>\n",
       "    <tr>\n",
       "      <th>890</th>\n",
       "      <td>891</td>\n",
       "      <td>0</td>\n",
       "      <td>3</td>\n",
       "      <td>Dooley, Mr. Patrick</td>\n",
       "      <td>male</td>\n",
       "      <td>32.0</td>\n",
       "      <td>0</td>\n",
       "      <td>0</td>\n",
       "      <td>370376</td>\n",
       "      <td>7.7500</td>\n",
       "      <td>Unknown</td>\n",
       "      <td>Q</td>\n",
       "      <td>Mr</td>\n",
       "    </tr>\n",
       "  </tbody>\n",
       "</table>\n",
       "</div>"
      ],
      "text/plain": [
       "     PassengerId  Survived  Pclass  \\\n",
       "871          872         1       1   \n",
       "872          873         0       1   \n",
       "873          874         0       3   \n",
       "874          875         1       2   \n",
       "875          876         1       3   \n",
       "876          877         0       3   \n",
       "877          878         0       3   \n",
       "878          879         0       3   \n",
       "879          880         1       1   \n",
       "880          881         1       2   \n",
       "881          882         0       3   \n",
       "882          883         0       3   \n",
       "883          884         0       2   \n",
       "884          885         0       3   \n",
       "885          886         0       3   \n",
       "886          887         0       2   \n",
       "887          888         1       1   \n",
       "888          889         0       3   \n",
       "889          890         1       1   \n",
       "890          891         0       3   \n",
       "\n",
       "                                                 Name     Sex   Age  SibSp  \\\n",
       "871  Beckwith, Mrs. Richard Leonard (Sallie Monypeny)  female  47.0      1   \n",
       "872                          Carlsson, Mr. Frans Olof    male  33.0      0   \n",
       "873                       Vander Cruyssen, Mr. Victor    male  47.0      0   \n",
       "874             Abelson, Mrs. Samuel (Hannah Wizosky)  female  28.0      1   \n",
       "875                  Najib, Miss. Adele Kiamie \"Jane\"  female  15.0      0   \n",
       "876                     Gustafsson, Mr. Alfred Ossian    male  20.0      0   \n",
       "877                              Petroff, Mr. Nedelio    male  19.0      0   \n",
       "878                                Laleff, Mr. Kristo    male  30.0      0   \n",
       "879     Potter, Mrs. Thomas Jr (Lily Alexenia Wilson)  female  56.0      0   \n",
       "880      Shelley, Mrs. William (Imanita Parrish Hall)  female  25.0      0   \n",
       "881                                Markun, Mr. Johann    male  33.0      0   \n",
       "882                      Dahlberg, Miss. Gerda Ulrika  female  22.0      0   \n",
       "883                     Banfield, Mr. Frederick James    male  28.0      0   \n",
       "884                            Sutehall, Mr. Henry Jr    male  25.0      0   \n",
       "885              Rice, Mrs. William (Margaret Norton)  female  39.0      0   \n",
       "886                             Montvila, Rev. Juozas    male  27.0      0   \n",
       "887                      Graham, Miss. Margaret Edith  female  19.0      0   \n",
       "888          Johnston, Miss. Catherine Helen \"Carrie\"  female  21.0      1   \n",
       "889                             Behr, Mr. Karl Howell    male  26.0      0   \n",
       "890                               Dooley, Mr. Patrick    male  32.0      0   \n",
       "\n",
       "     Parch            Ticket     Fare        Cabin Embarked Title  \n",
       "871      1             11751  52.5542          D35        S   Mrs  \n",
       "872      0               695   5.0000  B51 B53 B55        S    Mr  \n",
       "873      0            345765   9.0000      Unknown        S    Mr  \n",
       "874      0         P/PP 3381  24.0000      Unknown        C   Mrs  \n",
       "875      0              2667   7.2250      Unknown        C  Miss  \n",
       "876      0              7534   9.8458      Unknown        S    Mr  \n",
       "877      0            349212   7.8958      Unknown        S    Mr  \n",
       "878      0            349217   7.8958      Unknown        S    Mr  \n",
       "879      1             11767  83.1583          C50        C   Mrs  \n",
       "880      1            230433  26.0000      Unknown        S   Mrs  \n",
       "881      0            349257   7.8958      Unknown        S    Mr  \n",
       "882      0              7552  10.5167      Unknown        S  Miss  \n",
       "883      0  C.A./SOTON 34068  10.5000      Unknown        S    Mr  \n",
       "884      0   SOTON/OQ 392076   7.0500      Unknown        S    Mr  \n",
       "885      5            382652  29.1250      Unknown        Q   Mrs  \n",
       "886      0            211536  13.0000      Unknown        S  Rare  \n",
       "887      0            112053  30.0000          B42        S  Miss  \n",
       "888      2        W./C. 6607  23.4500      Unknown        S  Miss  \n",
       "889      0            111369  30.0000         C148        C    Mr  \n",
       "890      0            370376   7.7500      Unknown        Q    Mr  "
      ]
     },
     "execution_count": 12,
     "metadata": {},
     "output_type": "execute_result"
    }
   ],
   "source": [
    "print('the last 20 rows are')\n",
    "titanic_data.tail(20)\n"
   ]
  },
  {
   "cell_type": "code",
   "execution_count": 13,
   "id": "843dad4f",
   "metadata": {},
   "outputs": [
    {
     "name": "stdout",
     "output_type": "stream",
     "text": [
      "the rate of survival\n"
     ]
    },
    {
     "data": {
      "text/plain": [
       "<Axes: xlabel='Survived'>"
      ]
     },
     "execution_count": 13,
     "metadata": {},
     "output_type": "execute_result"
    },
    {
     "data": {
      "image/png": "[encoded data removed]",
      "text/plain": [
       "<Figure size 640x480 with 1 Axes>"
      ]
     },
     "metadata": {},
     "output_type": "display_data"
    }
   ],
   "source": [
    "print('the rate of survival')\n",
    "titanic_data['Survived'].value_counts().plot(kind = 'bar')"
   ]
  },
  {
   "cell_type": "code",
   "execution_count": 14,
   "id": "dd117367",
   "metadata": {},
   "outputs": [
    {
     "name": "stdout",
     "output_type": "stream",
     "text": [
      "comparison of the males and females that survived\n"
     ]
    },
    {
     "data": {
      "text/html": [
       "<div>\n",
       "<style scoped>\n",
       "    .dataframe tbody tr th:only-of-type {\n",
       "        vertical-align: middle;\n",
       "    }\n",
       "\n",
       "    .dataframe tbody tr th {\n",
       "        vertical-align: top;\n",
       "    }\n",
       "\n",
       "    .dataframe thead th {\n",
       "        text-align: right;\n",
       "    }\n",
       "</style>\n",
       "<table border=\"1\" class=\"dataframe\">\n",
       "  <thead>\n",
       "    <tr style=\"text-align: right;\">\n",
       "      <th>Survived</th>\n",
       "      <th>0</th>\n",
       "      <th>1</th>\n",
       "    </tr>\n",
       "    <tr>\n",
       "      <th>Sex</th>\n",
       "      <th></th>\n",
       "      <th></th>\n",
       "    </tr>\n",
       "  </thead>\n",
       "  <tbody>\n",
       "    <tr>\n",
       "      <th>female</th>\n",
       "      <td>81</td>\n",
       "      <td>233</td>\n",
       "    </tr>\n",
       "    <tr>\n",
       "      <th>male</th>\n",
       "      <td>468</td>\n",
       "      <td>109</td>\n",
       "    </tr>\n",
       "  </tbody>\n",
       "</table>\n",
       "</div>"
      ],
      "text/plain": [
       "Survived    0    1\n",
       "Sex               \n",
       "female     81  233\n",
       "male      468  109"
      ]
     },
     "execution_count": 14,
     "metadata": {},
     "output_type": "execute_result"
    }
   ],
   "source": [
    "print('comparison of the males and females that survived')\n",
    "titanic_data.groupby(['Sex','Survived']).size().unstack(fill_value=0)\n"
   ]
  },
  {
   "cell_type": "code",
   "execution_count": 38,
   "id": "d5bb8d89",
   "metadata": {},
   "outputs": [
    {
     "name": "stdout",
     "output_type": "stream",
     "text": [
      "the survival rate of female and male\n"
     ]
    },
    {
     "data": {
      "text/plain": [
       "Text(0.5, 1.0, 'comparison survival rate of female and male')"
      ]
     },
     "execution_count": 38,
     "metadata": {},
     "output_type": "execute_result"
    },
    {
     "data": {
      "image/png": "[encoded data removed]",
      "text/plain": [
       "<Figure size 640x480 with 1 Axes>"
      ]
     },
     "metadata": {},
     "output_type": "display_data"
    }
   ],
   "source": [
    "print('the survival rate of female and male')\n",
    "titanic_data.groupby('Sex')['Survived'].mean().plot(kind = 'pie', autopct='%1.1f%%', ylabel ='')\n",
    "plt.title(\"comparison survival rate of female and male\")"
   ]
  },
  {
   "cell_type": "code",
   "execution_count": 16,
   "id": "b52ec6c9",
   "metadata": {},
   "outputs": [
    {
     "data": {
      "text/plain": [
       "Index(['Name', 'Sex', 'Ticket', 'Cabin', 'Embarked', 'Title'], dtype='object')"
      ]
     },
     "execution_count": 16,
     "metadata": {},
     "output_type": "execute_result"
    }
   ],
   "source": [
    "#checking data that needs to be encoded\n",
    "titanic_data.select_dtypes(include='object').columns"
   ]
  },
  {
   "cell_type": "code",
   "execution_count": 17,
   "id": "329ad3ed",
   "metadata": {},
   "outputs": [],
   "source": [
    "#feature selection\n",
    "not_feature = [\"Survived\", \"PassengerId\", \"Name\", \"Cabin\", \"Ticket\"]"
   ]
  },
  {
   "cell_type": "code",
   "execution_count": 18,
   "id": "286413c9",
   "metadata": {},
   "outputs": [],
   "source": [
    "#feature extraction\n",
    "titanic_data['Cabin_letter'] = titanic_data['Cabin'].str[0]"
   ]
  },
  {
   "cell_type": "markdown",
   "id": "442c3894",
   "metadata": {},
   "source": [
    "econding of feature"
   ]
  },
  {
   "cell_type": "code",
   "execution_count": 19,
   "id": "31e09f98",
   "metadata": {},
   "outputs": [],
   "source": [
    "titanic_data_encoded = pd.get_dummies(titanic_data, columns=['Title','Cabin_letter','Sex', 'Embarked', 'Pclass'], drop_first=True)"
   ]
  },
  {
   "cell_type": "markdown",
   "id": "54cba419",
   "metadata": {},
   "source": [
    "definition of neccessary feautures"
   ]
  },
  {
   "cell_type": "code",
   "execution_count": 20,
   "id": "2d7defed",
   "metadata": {},
   "outputs": [],
   "source": [
    "\n",
    "X = titanic_data_encoded.drop(not_feature, axis=1)\n",
    "y = titanic_data_encoded['Survived']\n"
   ]
  },
  {
   "cell_type": "markdown",
   "id": "d3350b40",
   "metadata": {},
   "source": []
  },
  {
   "cell_type": "code",
   "execution_count": 21,
   "id": "1896a72d",
   "metadata": {},
   "outputs": [],
   "source": [
    "\n",
    "X_temp, X_test, y_temp, y_test = train_test_split(X, y, test_size=0.2, random_state=42)\n",
    "X_train, X_val, y_train, y_val = train_test_split(X_temp, y_temp, test_size=0.125, random_state=42)"
   ]
  },
  {
   "cell_type": "markdown",
   "id": "a29a204b",
   "metadata": {},
   "source": []
  },
  {
   "cell_type": "markdown",
   "id": "01829bf5",
   "metadata": {},
   "source": [
    "logistic regression model"
   ]
  },
  {
   "cell_type": "code",
   "execution_count": 22,
   "id": "5bf1fcaa",
   "metadata": {},
   "outputs": [
    {
     "name": "stdout",
     "output_type": "stream",
     "text": [
      "val accuracy: 0.8426966292134831\n",
      "val accuracy: 0.841091492776886\n",
      "0              survived\n",
      "1      did not survived\n",
      "2      did not survived\n",
      "3              survived\n",
      "4              survived\n",
      "             ...       \n",
      "174    did not survived\n",
      "175    did not survived\n",
      "176    did not survived\n",
      "177            survived\n",
      "178            survived\n",
      "Length: 179, dtype: object\n"
     ]
    }
   ],
   "source": [
    "model_lr = LogisticRegression(max_iter=1000,random_state=0)\n",
    "model_lr.fit(X_train, y_train)\n",
    "val_work = model_lr.score(X_val, y_val)\n",
    "print(\"val accuracy:\", val_work)\n",
    "train_acclr = model_lr.score(X_train, y_train)\n",
    "print(\"val accuracy:\", train_acclr)\n",
    "y_pred_lr = model_lr.predict(X_test)\n",
    "y_pred_label = pd.Series(y_pred_lr).map({0: \"did not survived\", 1: \"survived\"})\n",
    "print(y_pred_label)"
   ]
  },
  {
   "cell_type": "markdown",
   "id": "a383e83b",
   "metadata": {},
   "source": [
    "confusion matrix for logistic regression\n"
   ]
  },
  {
   "cell_type": "code",
   "execution_count": 23,
   "id": "e371ac0a",
   "metadata": {},
   "outputs": [
    {
     "data": {
      "text/plain": [
       "Text(0, 0.5, 'True label\\n [TN | FN]')"
      ]
     },
     "execution_count": 23,
     "metadata": {},
     "output_type": "execute_result"
    },
    {
     "data": {
      "image/png": "[encoded data removed]",
      "text/plain": [
       "<Figure size 640x480 with 2 Axes>"
      ]
     },
     "metadata": {},
     "output_type": "display_data"
    }
   ],
   "source": [
    "cmlr = confusion_matrix(y_test,y_pred_lr)\n",
    "displr = ConfusionMatrixDisplay(confusion_matrix=cmlr)\n",
    "displr.plot(cmap='Blues' )\n",
    "plt.title('confusion matrix for logistics regression')\n",
    "displr.ax_.set_xlabel('Predicted label\\n [FP | TP]')\n",
    "displr.ax_.set_ylabel('True label\\n [TN | FN]')"
   ]
  },
  {
   "cell_type": "markdown",
   "id": "938ac2a9",
   "metadata": {},
   "source": [
    "precision, recall andf1score"
   ]
  },
  {
   "cell_type": "code",
   "execution_count": 24,
   "id": "715477cc",
   "metadata": {},
   "outputs": [],
   "source": [
    "precisionrf = precision_score(y_test, y_pred_lr)\n",
    "recallrf = recall_score(y_test, y_pred_lr)\n",
    "f1score = f1_score(y_test, y_pred_lr)"
   ]
  },
  {
   "cell_type": "code",
   "execution_count": 25,
   "id": "cd1fb975",
   "metadata": {},
   "outputs": [
    {
     "name": "stdout",
     "output_type": "stream",
     "text": [
      "accuracy of this model is: 0.81\n"
     ]
    }
   ],
   "source": [
    "accuracy_lr = accuracy_score(y_test, y_pred_lr)\n",
    "print(\"accuracy of this model is:\", round(accuracy_lr, 2))"
   ]
  },
  {
   "cell_type": "markdown",
   "id": "5154de0d",
   "metadata": {},
   "source": [
    "random forest"
   ]
  },
  {
   "cell_type": "code",
   "execution_count": 26,
   "id": "ca7cd6e6",
   "metadata": {},
   "outputs": [
    {
     "name": "stdout",
     "output_type": "stream",
     "text": [
      "val accuracy: 0.8426966292134831\n",
      "val accuracy: 0.985553772070626\n",
      "0              survived\n",
      "1      did not survived\n",
      "2      did not survived\n",
      "3              survived\n",
      "4      did not survived\n",
      "             ...       \n",
      "174    did not survived\n",
      "175    did not survived\n",
      "176    did not survived\n",
      "177            survived\n",
      "178            survived\n",
      "Length: 179, dtype: object\n"
     ]
    }
   ],
   "source": [
    "model_rf = RandomForestClassifier(random_state=0)\n",
    "model_rf.fit(X_train, y_train)\n",
    "valrf_work = model_rf.score(X_val, y_val)\n",
    "print(\"val accuracy:\", valrf_work)\n",
    "train_accrf = model_rf.score(X_train, y_train)\n",
    "print(\"val accuracy:\", train_accrf)\n",
    "y_pred_rf = model_rf.predict(X_test)\n",
    "yrf_pred_label = pd.Series(y_pred_rf).map({0: \"did not survived\", 1: \"survived\"})\n",
    "print(yrf_pred_label)"
   ]
  },
  {
   "cell_type": "markdown",
   "id": "7fc0df5c",
   "metadata": {},
   "source": [
    "confusion matrix"
   ]
  },
  {
   "cell_type": "code",
   "execution_count": 27,
   "id": "fcce6f1f",
   "metadata": {},
   "outputs": [
    {
     "name": "stdout",
     "output_type": "stream",
     "text": [
      "<sklearn.metrics._plot.confusion_matrix.ConfusionMatrixDisplay object at 0x783d54d20200>\n"
     ]
    },
    {
     "data": {
      "text/plain": [
       "Text(0, 0.5, 'True label\\n [TN | FN]')"
      ]
     },
     "execution_count": 27,
     "metadata": {},
     "output_type": "execute_result"
    },
    {
     "data": {
      "image/png": "[encoded data removed]",
      "text/plain": [
       "<Figure size 640x480 with 2 Axes>"
      ]
     },
     "metadata": {},
     "output_type": "display_data"
    }
   ],
   "source": [
    "cmrf = confusion_matrix(y_test,y_pred_rf)\n",
    "disprf = ConfusionMatrixDisplay(confusion_matrix=cmrf)\n",
    "print(disprf)\n",
    "disprf.plot(cmap='Blues' )\n",
    "plt.title('confusion matrix forrandom forest')\n",
    "disprf.ax_.set_xlabel('Predicted label\\n [FP | TP]')\n",
    "disprf.ax_.set_ylabel('True label\\n [TN | FN]')"
   ]
  },
  {
   "cell_type": "markdown",
   "id": "804d8ed3",
   "metadata": {},
   "source": [
    "precision, recall, accuracy and f1score"
   ]
  },
  {
   "cell_type": "code",
   "execution_count": 28,
   "id": "c65ebbc6",
   "metadata": {},
   "outputs": [],
   "source": [
    "precisionrf = precision_score(y_test, y_pred_rf)\n",
    "recallrf = recall_score(y_test, y_pred_rf)\n",
    "f1score = f1_score(y_test, y_pred_rf)"
   ]
  },
  {
   "cell_type": "markdown",
   "id": "6654bbb7",
   "metadata": {},
   "source": [
    "ACCURACY"
   ]
  },
  {
   "cell_type": "code",
   "execution_count": 29,
   "id": "22df2a2d",
   "metadata": {},
   "outputs": [
    {
     "name": "stdout",
     "output_type": "stream",
     "text": [
      "accuracy of this model is: 0.83\n"
     ]
    }
   ],
   "source": [
    "accuracy_rf = accuracy_score(y_test, y_pred_rf)\n",
    "print(\"accuracy of this model is:\", round(accuracy_rf, 2))"
   ]
  },
  {
   "cell_type": "markdown",
   "id": "58fdbb98",
   "metadata": {},
   "source": [
    "xgboost"
   ]
  },
  {
   "cell_type": "code",
   "execution_count": 30,
   "id": "2aafdf5a",
   "metadata": {},
   "outputs": [
    {
     "name": "stdout",
     "output_type": "stream",
     "text": [
      "val accuracy: 0.8651685393258427\n",
      "Train accuracy: 0.9759229534510433\n",
      "0              survived\n",
      "1      did not survived\n",
      "2              survived\n",
      "3              survived\n",
      "4              survived\n",
      "             ...       \n",
      "174    did not survived\n",
      "175    did not survived\n",
      "176    did not survived\n",
      "177            survived\n",
      "178            survived\n",
      "Length: 179, dtype: object\n"
     ]
    }
   ],
   "source": [
    "model_xg = XGBClassifier(random_state=0)\n",
    "model_xg.fit(X_train, y_train)\n",
    "val_workxg = model_xg.score(X_val, y_val)\n",
    "print(\"val accuracy:\", val_workxg)\n",
    "train_accxg = model_xg.score(X_train, y_train)\n",
    "print(\"Train accuracy:\", train_accxg)\n",
    "y_pred_xg = model_xg.predict(X_test)\n",
    "yxg_pred_label = pd.Series(y_pred_xg).map({0: \"did not survived\", 1: \"survived\"})\n",
    "print(yxg_pred_label)"
   ]
  },
  {
   "cell_type": "markdown",
   "id": "4c00cd1b",
   "metadata": {},
   "source": [
    "confusion matrix"
   ]
  },
  {
   "cell_type": "code",
   "execution_count": 31,
   "id": "b86d04a5",
   "metadata": {},
   "outputs": [
    {
     "data": {
      "text/plain": [
       "Text(0, 0.5, 'True label\\n [TN | FN]')"
      ]
     },
     "execution_count": 31,
     "metadata": {},
     "output_type": "execute_result"
    },
    {
     "data": {
      "image/png": "[encoded data removed]",
      "text/plain": [
       "<Figure size 640x480 with 2 Axes>"
      ]
     },
     "metadata": {},
     "output_type": "display_data"
    }
   ],
   "source": [
    "cmxg = confusion_matrix(y_test,y_pred_xg)\n",
    "dispxg = ConfusionMatrixDisplay(confusion_matrix=cmxg)\n",
    "dispxg.plot(cmap='Blues' )\n",
    "plt.title('confusion matrix for xgboost')\n",
    "dispxg.ax_.set_xlabel('Predicted label\\n [FP | TP]')\n",
    "dispxg.ax_.set_ylabel('True label\\n [TN | FN]')"
   ]
  },
  {
   "cell_type": "markdown",
   "id": "e65495b2",
   "metadata": {},
   "source": [
    "precision, recall and accuracy"
   ]
  },
  {
   "cell_type": "code",
   "execution_count": 32,
   "id": "56f8ed17",
   "metadata": {},
   "outputs": [],
   "source": [
    "precisionrf = precision_score(y_test, y_pred_xg)\n",
    "recallrf = recall_score(y_test, y_pred_xg)\n",
    "f1score = f1_score(y_test, y_pred_xg)"
   ]
  },
  {
   "cell_type": "code",
   "execution_count": 33,
   "id": "75f1cb2d",
   "metadata": {},
   "outputs": [
    {
     "name": "stdout",
     "output_type": "stream",
     "text": [
      "accuracy of this model is: 0.84\n"
     ]
    }
   ],
   "source": [
    "accuracy_xg = accuracy_score(y_test, y_pred_xg)\n",
    "print(\"accuracy of this model is:\", round(accuracy_xg, 2))"
   ]
  },
  {
   "cell_type": "markdown",
   "id": "ea7ceda8",
   "metadata": {},
   "source": [
    "feature performance function"
   ]
  },
  {
   "cell_type": "code",
   "execution_count": 34,
   "id": "b258ec02",
   "metadata": {},
   "outputs": [],
   "source": [
    "# Train model\n",
    "def importance_feature(model):\n",
    "    model = RandomForestClassifier(random_state=42).fit(X_train, y_train)\n",
    "    # Permutation importance\n",
    "    result = permutation_importance(model, X_test, y_test, n_repeats=3, random_state=42)\n",
    "    # Put into DataFrame\n",
    "    pi_df = pd.DataFrame({\n",
    "        \"feature\": X_test.columns,\n",
    "        \"importance\": result.importances_mean\n",
    "        })\n",
    "    # Group back by original feature\n",
    "    pi_df[\"group\"] = pi_df[\"feature\"].str.split(\"_\").str[0]  \n",
    "     # take part before \"_\"\n",
    "    grouped = pi_df.groupby(\"group\")[\"importance\"].sum().sort_values(ascending=False)\n",
    "    print(\"Grouped feature importance:\")\n",
    "    return grouped\n",
    "\n"
   ]
  },
  {
   "cell_type": "markdown",
   "id": "f406fe79",
   "metadata": {},
   "source": [
    "feature performance for logistic regression"
   ]
  },
  {
   "cell_type": "code",
   "execution_count": 35,
   "id": "956869a1",
   "metadata": {},
   "outputs": [
    {
     "name": "stdout",
     "output_type": "stream",
     "text": [
      "Grouped feature importance:\n"
     ]
    },
    {
     "data": {
      "text/plain": [
       "group\n",
       "Fare        0.068901\n",
       "Embarked    0.029795\n",
       "Title       0.027933\n",
       "Age         0.018622\n",
       "Parch       0.014898\n",
       "Pclass      0.011173\n",
       "SibSp       0.011173\n",
       "Cabin       0.009311\n",
       "Sex         0.009311\n",
       "Name: importance, dtype: float64"
      ]
     },
     "execution_count": 35,
     "metadata": {},
     "output_type": "execute_result"
    }
   ],
   "source": [
    "importance_feature(model_lr)"
   ]
  },
  {
   "cell_type": "markdown",
   "id": "77654f88",
   "metadata": {},
   "source": [
    "feature performance for xgboost "
   ]
  },
  {
   "cell_type": "code",
   "execution_count": 36,
   "id": "5ebcb670",
   "metadata": {},
   "outputs": [
    {
     "name": "stdout",
     "output_type": "stream",
     "text": [
      "Grouped feature importance:\n"
     ]
    },
    {
     "data": {
      "text/plain": [
       "group\n",
       "Fare        0.068901\n",
       "Embarked    0.029795\n",
       "Title       0.027933\n",
       "Age         0.018622\n",
       "Parch       0.014898\n",
       "Pclass      0.011173\n",
       "SibSp       0.011173\n",
       "Cabin       0.009311\n",
       "Sex         0.009311\n",
       "Name: importance, dtype: float64"
      ]
     },
     "execution_count": 36,
     "metadata": {},
     "output_type": "execute_result"
    }
   ],
   "source": [
    "importance_feature(model_xg)"
   ]
  },
  {
   "cell_type": "markdown",
   "id": "b6569d71",
   "metadata": {},
   "source": [
    "features performance for "
   ]
  },
  {
   "cell_type": "code",
   "execution_count": 37,
   "id": "1e1e982c",
   "metadata": {},
   "outputs": [
    {
     "name": "stdout",
     "output_type": "stream",
     "text": [
      "Grouped feature importance:\n"
     ]
    },
    {
     "data": {
      "text/plain": [
       "group\n",
       "Fare        0.068901\n",
       "Embarked    0.029795\n",
       "Title       0.027933\n",
       "Age         0.018622\n",
       "Parch       0.014898\n",
       "Pclass      0.011173\n",
       "SibSp       0.011173\n",
       "Cabin       0.009311\n",
       "Sex         0.009311\n",
       "Name: importance, dtype: float64"
      ]
     },
     "execution_count": 37,
     "metadata": {},
     "output_type": "execute_result"
    }
   ],
   "source": [
    "importance_feature(model_rf)"
   ]
  }
 ],
 "metadata": {
  "kernelspec": {
   "display_name": ".venv (3.12.3)",
   "language": "python",
   "name": "python3"
  },
  "language_info": {
   "codemirror_mode": {
    "name": "ipython",
    "version": 3
   },
   "file_extension": ".py",
   "mimetype": "text/x-python",
   "name": "python",
   "nbconvert_exporter": "python",
   "pygments_lexer": "ipython3",
   "version": "3.12.3"
  }
 },
 "nbformat": 4,
 "nbformat_minor": 5
}
